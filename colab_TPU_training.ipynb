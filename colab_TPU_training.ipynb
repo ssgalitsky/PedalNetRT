{
  "nbformat": 4,
  "nbformat_minor": 0,
  "metadata": {
    "colab": {
      "name": "pedalnet_training.ipynb",
      "provenance": [],
      "collapsed_sections": [],
      "include_colab_link": true
    },
    "kernelspec": {
      "name": "python3",
      "display_name": "Python 3"
    },
    "accelerator": "TPU"
  },
  "cells": [
    {
      "cell_type": "markdown",
      "metadata": {
        "id": "view-in-github",
        "colab_type": "text"
      },
      "source": [
        "<a href=\"https://colab.research.google.com/github/ssgalitsky/PedalNetRT/blob/master/colab_TPU_training.ipynb\" target=\"_parent\"><img src=\"https://colab.research.google.com/assets/colab-badge.svg\" alt=\"Open In Colab\"/></a>"
      ]
    },
    {
      "cell_type": "markdown",
      "metadata": {
        "id": "w-9U7OducSMH"
      },
      "source": [
        "\n",
        "\n",
        "links:\n",
        "\n",
        "PyTorch Lightning Documentation https://pytorch-lightning.readthedocs.io/en/stable/"
      ]
    },
    {
      "cell_type": "code",
      "metadata": {
        "id": "lpiGhaArUL6H",
        "cellView": "both",
        "outputId": "e2eaf173-9a4f-48e8-dae1-e34f62654ec4",
        "colab": {
          "base_uri": "https://localhost:8080/",
          "height": 136
        }
      },
      "source": [
        "#@title 1. clone  https://github.com/ssgalitsky/PedalNetRT.git\n",
        "!rm -rf '/content/PedalNetRT'\n",
        "import os\n",
        "os.chdir('/content')\n",
        "!git clone https://github.com/ssgalitsky/PedalNetRT.git\n"
      ],
      "execution_count": 33,
      "outputs": [
        {
          "output_type": "stream",
          "text": [
            "Cloning into 'PedalNetRT'...\n",
            "remote: Enumerating objects: 224, done.\u001b[K\n",
            "remote: Counting objects: 100% (224/224), done.\u001b[K\n",
            "remote: Compressing objects: 100% (215/215), done.\u001b[K\n",
            "remote: Total 224 (delta 109), reused 27 (delta 3), pack-reused 0\u001b[K\n",
            "Receiving objects: 100% (224/224), 158.40 MiB | 15.98 MiB/s, done.\n",
            "Resolving deltas: 100% (109/109), done.\n"
          ],
          "name": "stdout"
        }
      ]
    },
    {
      "cell_type": "code",
      "metadata": {
        "id": "MHkf8SbECuIn",
        "cellView": "both"
      },
      "source": [
        "#@title 2.1 install dependencies\n",
        "!pip3 install torchvision\n",
        "!pip3 install pytorch_lightning==0.9.0\n",
        "use_tpu=False"
      ],
      "execution_count": null,
      "outputs": []
    },
    {
      "cell_type": "code",
      "metadata": {
        "id": "BPznmepVwpwT",
        "cellView": "both"
      },
      "source": [
        "#@title 2.2 install optional dependencies (TPU)\n",
        "!curl https://raw.githubusercontent.com/pytorch/xla/master/contrib/scripts/env-setup.py -o pytorch-xla-env-setup.py\n",
        "!python3 pytorch-xla-env-setup.py --version nightly --apt-packages libomp5 libopenblas-dev\n",
        "!pip3 install cloud-tpu-client==0.10 https://storage.googleapis.com/tpu-pytorch/wheels/torch_xla-1.6-cp36-cp36m-linux_x86_64.whl\n",
        "use_tpu=True"
      ],
      "execution_count": null,
      "outputs": []
    },
    {
      "cell_type": "code",
      "metadata": {
        "id": "tN4SOa4Jy89O"
      },
      "source": [
        "import torch\n",
        "use_cuda=True\n",
        "if use_cuda and torch.cuda.is_available():\n",
        "  net.cuda()\n",
        "use_tpu=True\n",
        "#from google.colab import drive\n",
        "#drive.mount('/content/drive')\n",
        "\n",
        "\n"
      ],
      "execution_count": 3,
      "outputs": []
    },
    {
      "cell_type": "code",
      "metadata": {
        "id": "n9vktclZBGuc",
        "cellView": "both"
      },
      "source": [
        "#@title 3. prepare data\n",
        "os.chdir('/content/PedalNetRT')\n",
        "!python3 \"prepare_data.py\" \"/content/PedalNetRT/data/s chain1.wav\" \"/content/PedalNetRT/data/s chain5.wav\"\n"
      ],
      "execution_count": 40,
      "outputs": []
    },
    {
      "cell_type": "code",
      "metadata": {
        "id": "XBb2THG2BtLm",
        "cellView": "both",
        "outputId": "08e93121-d636-449e-fbe3-23d53730ecdc",
        "colab": {
          "base_uri": "https://localhost:8080/",
          "height": 593
        }
      },
      "source": [
        "#@title 4. **train model** Beware, checkpoint files not visible via Colab webui (-rw-r--r--) \n",
        "import os\n",
        "if use_tpu:\n",
        "  assert os.environ['COLAB_TPU_ADDR']\n",
        "os.chdir('/content/PedalNetRT')  \n",
        "import pytorch_lightning\n",
        "!python3 \"train.py\" --batch_size=32 --max_epochs=100 --learning_rate=3e-3 --num_channels=5 --kernel_size=2\n",
        "#!python3 \"train.py\" --batch_size=32 --max_epochs=100 --learning_rate=3e-3 --num_channels=5 \n",
        "\n",
        "\n",
        "\n",
        "\n"
      ],
      "execution_count": null,
      "outputs": [
        {
          "output_type": "stream",
          "text": [
            "2020-10-15 00:00:02.197580: I tensorflow/stream_executor/platform/default/dso_loader.cc:48] Successfully opened dynamic library libcudart.so.10.1\n",
            "GPU available: False, used: False\n",
            "TPU available: True, using: 8 TPU cores\n",
            "training on 8 TPU cores\n",
            "Traceback (most recent call last):\n",
            "  File \"train.py\", line 43, in <module>\n",
            "    main(args)\n",
            "  File \"train.py\", line 22, in main\n",
            "    trainer.fit(model)\n",
            "  File \"/usr/local/lib/python3.6/dist-packages/pytorch_lightning/trainer/states.py\", line 48, in wrapped_fn\n",
            "    result = fn(self, *args, **kwargs)\n",
            "  File \"/usr/local/lib/python3.6/dist-packages/pytorch_lightning/trainer/trainer.py\", line 1078, in fit\n",
            "    self.accelerator_backend.train(model)\n",
            "  File \"/usr/local/lib/python3.6/dist-packages/pytorch_lightning/accelerators/tpu_backend.py\", line 87, in train\n",
            "    start_method=self.start_method\n",
            "  File \"/usr/local/lib/python3.6/dist-packages/torch_xla/distributed/xla_multiprocessing.py\", line 395, in spawn\n",
            "    start_method=start_method)\n",
            "  File \"/usr/local/lib/python3.6/dist-packages/torch/multiprocessing/spawn.py\", line 205, in start_processes\n",
            "    while not context.join():\n",
            "  File \"/usr/local/lib/python3.6/dist-packages/torch/multiprocessing/spawn.py\", line 117, in join\n",
            "    timeout=timeout,\n",
            "  File \"/usr/lib/python3.6/multiprocessing/connection.py\", line 911, in wait\n",
            "    ready = selector.select(timeout)\n",
            "  File \"/usr/lib/python3.6/selectors.py\", line 376, in select\n",
            "    fd_event_list = self._poll.poll(timeout)\n",
            "KeyboardInterrupt\n",
            "Error in atexit._run_exitfuncs:\n",
            "Traceback (most recent call last):\n",
            "  File \"/usr/lib/python3.6/multiprocessing/popen_fork.py\", line 28, in poll\n",
            "    pid, sts = os.waitpid(self.pid, flag)\n",
            "KeyboardInterrupt\n"
          ],
          "name": "stdout"
        }
      ]
    },
    {
      "cell_type": "code",
      "metadata": {
        "id": "KCLKrhgUIcUk",
        "outputId": "fdc30e9e-2a00-46e9-bc66-002b7ff4c342",
        "colab": {
          "base_uri": "https://localhost:8080/",
          "height": 34
        }
      },
      "source": [
        "!ls -d /content/PedalNetRT/lightning_logs/version_1/checkpoints/*\n",
        "\n",
        "#!chmod -R 755 lightning_logs \n"
      ],
      "execution_count": 42,
      "outputs": [
        {
          "output_type": "stream",
          "text": [
            "'/content/PedalNetRT/lightning_logs/version_1/checkpoints/epoch=782.ckpt'\n"
          ],
          "name": "stdout"
        }
      ]
    },
    {
      "cell_type": "code",
      "metadata": {
        "id": "s7W1bPk7V0hp",
        "cellView": "code",
        "outputId": "83349af1-5c77-42eb-af29-b16d2adc8af2",
        "colab": {
          "base_uri": "https://localhost:8080/",
          "height": 71
        }
      },
      "source": [
        "#@title 5. convert torch model (ckpt) to plugin model (json) \n",
        "# The .ckpt model must be converted to a .json model to run in the plugin. Usage:\n",
        "\n",
        "#!python3 convert_pedalnet_to_wavnetva.py --model=your_trained_model.ckpt\n",
        "!python3 convert_pedalnet_to_wavenetva.py --model=/content/PedalNetRT/lightning_logs/version_1/checkpoints/epoch=782.ckpt\n",
        "\n",
        "\n",
        "\n"
      ],
      "execution_count": 43,
      "outputs": [
        {
          "output_type": "stream",
          "text": [
            "2020-10-14 23:53:45.391525: I tensorflow/stream_executor/platform/default/dso_loader.cc:48] Successfully opened dynamic library libcudart.so.10.1\n",
            "^C\n"
          ],
          "name": "stdout"
        }
      ]
    },
    {
      "cell_type": "code",
      "metadata": {
        "id": "s4c3ZcL7x81U",
        "outputId": "e9870b65-026e-47f9-97b6-198d2f0a3dc8",
        "colab": {
          "base_uri": "https://localhost:8080/",
          "height": 445
        }
      },
      "source": [
        "!python test.py --model=/content/PedalNetRT/lightning_logs/version_1/checkpoints/epoch=782.ckpt"
      ],
      "execution_count": 44,
      "outputs": [
        {
          "output_type": "stream",
          "text": [
            "2020-10-14 23:56:15.062392: I tensorflow/stream_executor/platform/default/dso_loader.cc:48] Successfully opened dynamic library libcudart.so.10.1\n",
            "Traceback (most recent call last):\n",
            "  File \"test.py\", line 7, in <module>\n",
            "    from model import PedalNet\n",
            "  File \"/content/PedalNetRT/model.py\", line 6, in <module>\n",
            "    import pytorch_lightning as pl\n",
            "  File \"/usr/local/lib/python3.6/dist-packages/pytorch_lightning/__init__.py\", line 59, in <module>\n",
            "    from pytorch_lightning.trainer import Trainer\n",
            "  File \"/usr/local/lib/python3.6/dist-packages/pytorch_lightning/trainer/__init__.py\", line 1093, in <module>\n",
            "    from pytorch_lightning.trainer.trainer import Trainer\n",
            "  File \"/usr/local/lib/python3.6/dist-packages/pytorch_lightning/trainer/trainer.py\", line 32, in <module>\n",
            "    from pytorch_lightning.loggers import LightningLoggerBase\n",
            "  File \"/usr/local/lib/python3.6/dist-packages/pytorch_lightning/loggers/__init__.py\", line 5, in <module>\n",
            "    from pytorch_lightning.loggers.tensorboard import TensorBoardLogger\n",
            "  File \"/usr/local/lib/python3.6/dist-packages/pytorch_lightning/loggers/tensorboard.py\", line 27, in <module>\n",
            "    from torch.utils.tensorboard import SummaryWriter\n",
            "  File \"/usr/local/lib/python3.6/dist-packages/torch/utils/tensorboard/__init__.py\", line 8, in <module>\n",
            "    from .writer import FileWriter, SummaryWriter  # noqa F401\n",
            "  File \"/usr/local/lib/python3.6/dist-packages/torch/utils/tensorboard/writer.py\", line 16, in <module>\n",
            "    from ._convert_np import make_np\n",
            "  File \"<frozen importlib._bootstrap>\", line 971, in _find_and_load\n",
            "  File \"<frozen importlib._bootstrap>\", line 951, in _find_and_load_unlocked\n",
            "  File \"<frozen importlib._bootstrap>\", line 894, in _find_spec\n",
            "KeyboardInterrupt\n"
          ],
          "name": "stdout"
        }
      ]
    },
    {
      "cell_type": "code",
      "metadata": {
        "id": "BQpRRAHr4FtZ",
        "outputId": "fc5854d8-b940-4c55-d2cb-3b94a0220e93",
        "colab": {
          "base_uri": "https://localhost:8080/",
          "height": 136
        }
      },
      "source": [
        "!python plot_wav.py"
      ],
      "execution_count": 39,
      "outputs": [
        {
          "output_type": "stream",
          "text": [
            "Error to signal (with pre-emphasis filter):  0.80168515\n",
            "Error to signal (no pre-emphasis filter):  0.80168515\n",
            "Creating spectrogram data..\n",
            "plot_wav.py:116: RuntimeWarning: divide by zero encountered in log10\n",
            "  plt.pcolormesh(times, frequencies, 10*np.log10(spectrogram))\n",
            "<Figure size 1300x800 with 3 Axes>\n",
            "<Figure size 1200x800 with 2 Axes>\n"
          ],
          "name": "stdout"
        }
      ]
    },
    {
      "cell_type": "code",
      "metadata": {
        "id": "jinHl027kvhC",
        "cellView": "form"
      },
      "source": [
        "#@title 6. convert model from TPU to CPU format\n",
        "import torch_xla\n",
        "import torch_xla.core.xla_model as xm\n",
        "\n",
        "from model import PedalNet\n",
        "# Change path below to match model file\n",
        "model = PedalNet.load_from_checkpoint('lightning_logs/version_0/checkpoints/epoch=1.ckpt')\n",
        "\n",
        "# xm.save(model.state_dict(), 'tpu_to_cpu.ckpt') \n",
        "xm.save(model, 'tpu_to_cpu_model.ckpt') \n",
        "# issues loading model, see pytorch_lightning issues #2303 and #3044 (Might be completed by now)\n",
        "\n",
        "# TODO: Add code to be able to load saved model sucessfully\n"
      ],
      "execution_count": null,
      "outputs": []
    }
  ]
}