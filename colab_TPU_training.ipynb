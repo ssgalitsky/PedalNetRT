{
  "nbformat": 4,
  "nbformat_minor": 0,
  "metadata": {
    "colab": {
      "name": "pedalnet_training.ipynb",
      "provenance": [],
      "collapsed_sections": [],
      "include_colab_link": true
    },
    "kernelspec": {
      "name": "python3",
      "display_name": "Python 3"
    },
    "accelerator": "TPU"
  },
  "cells": [
    {
      "cell_type": "markdown",
      "metadata": {
        "id": "view-in-github",
        "colab_type": "text"
      },
      "source": [
        "<a href=\"https://colab.research.google.com/github/ssgalitsky/PedalNetRT/blob/master/colab_TPU_training.ipynb\" target=\"_parent\"><img src=\"https://colab.research.google.com/assets/colab-badge.svg\" alt=\"Open In Colab\"/></a>"
      ]
    },
    {
      "cell_type": "markdown",
      "metadata": {
        "id": "5nCUd-0A_qi8"
      },
      "source": [
        " In Colab options, go to \"Runtime\", \"Change Runtime Type\", and change hardware accelerator to \"TPU\".\n",
        "\n",
        " Note: User needs to modify the train.py script to use TPUs. Uncomment line as instructed in the file notes.\n",
        "\n",
        " Note: Having difficulty saving and loading TPU model after converting to CPU. It can be done, but currently needs some work."
      ]
    },
    {
      "cell_type": "code",
      "metadata": {
        "id": "MHkf8SbECuIn"
      },
      "source": [
        "!git clone https://github.com/ssgalitsky/PedalNetRT.git\n",
        "\n",
        "!pip3 install torchvision\n",
        "!pip install pytorch-lightning\n",
        "\n",
        "!curl https://raw.githubusercontent.com/pytorch/xla/master/contrib/scripts/env-setup.py -o pytorch-xla-env-setup.py\n",
        "!python pytorch-xla-env-setup.py --version nightly --apt-packages libomp5 libopenblas-dev\n",
        "!pip install cloud-tpu-client==0.10 https://storage.googleapis.com/tpu-pytorch/wheels/torch_xla-1.6-cp36-cp36m-linux_x86_64.whl"
      ],
      "execution_count": null,
      "outputs": []
    },
    {
      "cell_type": "code",
      "metadata": {
        "id": "2LXpEvx5Htpr"
      },
      "source": [
        "import torch\n",
        "use_cuda=True\n",
        "if use_cuda and torch.cuda.is_available():\n",
        "  net.cuda()"
      ],
      "execution_count": 2,
      "outputs": []
    },
    {
      "cell_type": "code",
      "metadata": {
        "id": "Ch_3CBmk6tqK"
      },
      "source": [
        "#from google.colab import drive\n",
        "#drive.mount('/content/drive')\n"
      ],
      "execution_count": null,
      "outputs": []
    },
    {
      "cell_type": "code",
      "metadata": {
        "id": "a4W98Rf771lR"
      },
      "source": [
        "import os\n",
        "os.chdir('/content/PedalNetRT')\n",
        "os.getcwd()\n"
      ],
      "execution_count": null,
      "outputs": []
    },
    {
      "cell_type": "code",
      "metadata": {
        "id": "rCMJ5htaMf0B"
      },
      "source": [
        "\n",
        "!ffmpeg -i \"data/flute.wav\"\n",
        "!ffmpeg -i \"data/guitar.wav\"\n",
        "!ffmpeg -i \"data/guitar.wav\" -acodec pcm_f32le -ar 44100 -ac 1 \"data/guitar.wav\"\n",
        "!ffmpeg -i \"data/flute.wav\" -acodec pcm_f32le -ar 44100 -ac 1 \"data/flute.wav\"\n",
        "\n"
      ],
      "execution_count": null,
      "outputs": []
    },
    {
      "cell_type": "code",
      "metadata": {
        "id": "n9vktclZBGuc",
        "outputId": "27373c3a-ca15-491f-eda2-3e9be1e02624",
        "colab": {
          "base_uri": "https://localhost:8080/",
          "height": 85
        }
      },
      "source": [
        "!python3 \"prepare_data.py\" \"/content/PedalNetRT/data/guitar.wav\" \"/content/PedalNetRT/data/flute.wav\"\n"
      ],
      "execution_count": 7,
      "outputs": [
        {
          "output_type": "stream",
          "text": [
            "prepare_data.py:8: WavFileWarning: Chunk (non-data) not understood, skipping it.\n",
            "  in_rate, in_data = wavfile.read(args.in_file)\n",
            "prepare_data.py:9: WavFileWarning: Chunk (non-data) not understood, skipping it.\n",
            "  out_rate, out_data = wavfile.read(args.out_file)\n"
          ],
          "name": "stdout"
        }
      ]
    },
    {
      "cell_type": "code",
      "metadata": {
        "id": "XBb2THG2BtLm"
      },
      "source": [
        "\n",
        "import os\n",
        "assert os.environ['COLAB_TPU_ADDR']\n",
        "import pytorch_lightning\n",
        "!python3 \"train.py\" --batch_size=32 --max_epochs=1500 --learning_rate=3e-3 --num_channels=5 "
      ],
      "execution_count": null,
      "outputs": []
    },
    {
      "cell_type": "code",
      "metadata": {
        "id": "s7W1bPk7V0hp"
      },
      "source": [
        "# The .ckpt model must be converted to a .json model to run in the plugin. Usage:\n",
        "!python3 convert_pedalnet_to_wavnetva.py --model=your_trained_model.ckpt"
      ],
      "execution_count": 1,
      "outputs": []
    },
    {
      "cell_type": "code",
      "metadata": {
        "id": "jinHl027kvhC"
      },
      "source": [
        "import torch_xla\n",
        "import torch_xla.core.xla_model as xm\n",
        "\n",
        "from model import PedalNet\n",
        "# Change path below to match model file\n",
        "model = PedalNet.load_from_checkpoint('lightning_logs/version_0/checkpoints/epoch=1.ckpt')\n",
        "\n",
        "# xm.save(model.state_dict(), 'tpu_to_cpu.ckpt') \n",
        "xm.save(model, 'tpu_to_cpu_model.ckpt') \n",
        "# issues loading model, see pytorch_lightning issues #2303 and #3044 (Might be completed by now)\n",
        "\n",
        "# TODO: Add code to be able to load saved model sucessfully\n"
      ],
      "execution_count": null,
      "outputs": []
    }
  ]
}